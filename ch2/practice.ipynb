{
 "cells": [
  {
   "cell_type": "markdown",
   "metadata": {},
   "source": [
    "# 练习题"
   ]
  },
  {
   "cell_type": "markdown",
   "metadata": {},
   "source": [
    "## 2.3-6 使用二分法改进插入排序，证明二分查找的最坏情况运行时间为 O(lgn)"
   ]
  },
  {
   "cell_type": "code",
   "execution_count": 19,
   "metadata": {},
   "outputs": [
    {
     "name": "stdout",
     "output_type": "stream",
     "text": [
      "[44 47 64 67 67  9 83 21 36 87 70 88 88 12 58 65 39 87 46 88]\n",
      "[  44 1111   47   64   67   67    9   83   21   36   87   70   88   88\n",
      "   12   58   65   39   87   46   88]\n",
      "[   9   12   21   36   39   44   46   47   58   64   65   67   67   70\n",
      "   83   87   87   88   88   88 1111]\n"
     ]
    }
   ],
   "source": [
    "\n",
    "import numpy as np\n",
    "import math\n",
    "\n",
    "np.random.seed(0)\n",
    "\n",
    "# 创建待排序的序列\n",
    "x = np.random.randint(0, 100, 20)\n",
    "print(x)\n",
    "x = np.insert(x,1, 1111)\n",
    "print(x)\n",
    "\n",
    "\n",
    "def bisection_find(y, d, i_beg, i_end):\n",
    "    \"\"\" 二分查找待插入的位置\n",
    "    \"\"\"\n",
    "    if i_beg +1 >=  i_end:\n",
    "\n",
    "        if d < y[i_beg]:\n",
    "            return i_beg\n",
    "        elif d > y[i_end]:\n",
    "            return i_end+1\n",
    "        else:\n",
    "            return i_end \n",
    "    \n",
    "    i_mid = int((i_end-i_beg)/2) + i_beg\n",
    "    if d <= y[i_mid]:\n",
    "        insert_i = bisection_find(y, d, i_beg, i_mid)\n",
    "    else:\n",
    "        insert_i = bisection_find(y, d, i_mid, i_end)\n",
    "    return insert_i\n",
    "\n",
    "def insert_bisection_sort(x):\n",
    "    y = np.zeros(0, dtype=x.dtype)\n",
    "    \n",
    "    for i, d in enumerate(x):\n",
    "        if i == 0:\n",
    "            y = np.append(y, d)\n",
    "        else:\n",
    "            i_insert = bisection_find(y, d, 0, len(y)-1)\n",
    "            if i_insert == len(y):\n",
    "                y = np.append(y, d)\n",
    "            else:\n",
    "                y = np.insert(y, i_insert, d)\n",
    "    return y\n",
    "\n",
    "y = insert_bisection_sort(x)\n",
    "print(y)"
   ]
  },
  {
   "cell_type": "code",
   "execution_count": null,
   "metadata": {},
   "outputs": [],
   "source": []
  }
 ],
 "metadata": {
  "kernelspec": {
   "display_name": "Python 3.9.12 ('base')",
   "language": "python",
   "name": "python3"
  },
  "language_info": {
   "codemirror_mode": {
    "name": "ipython",
    "version": 3
   },
   "file_extension": ".py",
   "mimetype": "text/x-python",
   "name": "python",
   "nbconvert_exporter": "python",
   "pygments_lexer": "ipython3",
   "version": "3.9.12"
  },
  "orig_nbformat": 4,
  "vscode": {
   "interpreter": {
    "hash": "076175131ef1f75248a4355b8f8c15ca3a15c102d58c3a5e8c8a3c62cfe61392"
   }
  }
 },
 "nbformat": 4,
 "nbformat_minor": 2
}
